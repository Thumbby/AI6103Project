{
 "cells": [
  {
   "cell_type": "markdown",
   "metadata": {},
   "source": [
    "Visualized the curves of Loss&PSNR"
   ]
  },
  {
   "cell_type": "code",
   "execution_count": 30,
   "metadata": {},
   "outputs": [],
   "source": [
    "import matplotlib.pyplot as plt\n",
    "import numpy as np\n",
    "import pandas as pd\n",
    "import os"
   ]
  },
  {
   "cell_type": "code",
   "execution_count": 38,
   "metadata": {},
   "outputs": [],
   "source": [
    "# configuration\n",
    "basedir = './logs'\n",
    "activation = 'test'\n",
    "result = 'result.csv'\n",
    "filedir = os.path.join(basedir, activation, result)"
   ]
  },
  {
   "cell_type": "code",
   "execution_count": 39,
   "metadata": {},
   "outputs": [
    {
     "data": {
      "text/plain": [
       "1000"
      ]
     },
     "execution_count": 39,
     "metadata": {},
     "output_type": "execute_result"
    }
   ],
   "source": [
    "# get result\n",
    "result = pd.read_csv(filedir)\n",
    "iters = list(result['Iter'])\n",
    "loss = list(result['Loss'])\n",
    "psnr = list(result['PSNR'])\n",
    "time_cost = list(result['Time_Cost'])\n",
    "len(iters)"
   ]
  },
  {
   "cell_type": "code",
   "execution_count": 40,
   "metadata": {},
   "outputs": [],
   "source": [
    "def vis_loss(parser, results, title):\n",
    "    plt.plot(iters, results, 'b')\n",
    "    plt.title(title)\n",
    "    plt.xlabel('Epochs')\n",
    "    plt.ylabel('Loss')\n",
    "    filedir = os.path.join(('./results_curve'), parser, '_loss.jpg')\n",
    "    plt.savefig(filedir, dpi=600)\n",
    "    plt.show()"
   ]
  },
  {
   "cell_type": "code",
   "execution_count": 41,
   "metadata": {},
   "outputs": [],
   "source": [
    "def vis_psnr(parser, results, title):\n",
    "    plt.plot(iters, results, 'r')\n",
    "    plt.title(title)\n",
    "    plt.xlabel('Epochs')\n",
    "    plt.ylabel('PSNR')\n",
    "    filedir = os.path.join(('./results_curve'), parser, '_psnr.jpg')\n",
    "    plt.savefig(filedir, dpi=600)\n",
    "    plt.show()"
   ]
  },
  {
   "cell_type": "code",
   "execution_count": 42,
   "metadata": {},
   "outputs": [],
   "source": [
    "def vis_loss_and_psnr(parser, results, title, legend):\n",
    "    for result in results:\n",
    "        plt.plot(iters, results, 'r')\n",
    "    plt.title(title)\n",
    "    plt.xlabel('Epochs')\n",
    "    plt.ylabel('PSNR')\n",
    "    plt.legend(['loss', 'psnr'])\n",
    "    filedir = os.path.join(('./results_curve'), parser, '_loss.jpg')\n",
    "    plt.savefig('./results/loss.jpg')\n",
    "    plt.show()"
   ]
  }
 ],
 "metadata": {
  "kernelspec": {
   "display_name": "Python 3.9.12 ('torch')",
   "language": "python",
   "name": "python3"
  },
  "language_info": {
   "codemirror_mode": {
    "name": "ipython",
    "version": 3
   },
   "file_extension": ".py",
   "mimetype": "text/x-python",
   "name": "python",
   "nbconvert_exporter": "python",
   "pygments_lexer": "ipython3",
   "version": "3.9.12"
  },
  "orig_nbformat": 4,
  "vscode": {
   "interpreter": {
    "hash": "f31b5846fe4d0e510ff280a80fa1fd1567c5c662c3b99a86eb737e0309da4a2e"
   }
  }
 },
 "nbformat": 4,
 "nbformat_minor": 2
}
